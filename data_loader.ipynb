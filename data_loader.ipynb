{
 "cells": [
  {
   "cell_type": "code",
   "execution_count": 35,
   "metadata": {
    "ExecuteTime": {
     "end_time": "2018-01-01T00:02:21.647560Z",
     "start_time": "2018-01-01T00:02:21.639619Z"
    },
    "collapsed": true
   },
   "outputs": [],
   "source": [
    "from urllib.request import urlretrieve\n",
    "import pandas as pd\n",
    "import matplotlib.pyplot as plt\n",
    "import matplotlib as mpl\n",
    "import numpy as np\n",
    "import os\n",
    "import seaborn as sns\n",
    "%matplotlib inline"
   ]
  },
  {
   "cell_type": "code",
   "execution_count": 39,
   "metadata": {
    "ExecuteTime": {
     "end_time": "2018-01-01T00:04:27.999318Z",
     "start_time": "2018-01-01T00:04:27.869149Z"
    },
    "collapsed": true
   },
   "outputs": [],
   "source": [
    "url = 'https://archive.ics.uci.edu/ml/machine-learning-databases/wine-quality/'\n",
    "red_wine_file='winequality-red.csv'\n",
    "white_wine_file='winequality-white.csv'\n",
    "wine_names_file='winequality.names'\n",
    "data_dir = 'data'\n",
    "if not os.path.exists(data_dir):\n",
    "    os.mkdir(data_dir)\n",
    "if not os.path.exists(os.path.join(data_dir, red_wine_file)):\n",
    "    urlretrieve(url + red_wine_file, os.path.join(data_dir,red_wine_file))\n",
    "if not os.path.exists(os.path.join(data_dir, white_wine_file)):\n",
    "    urlretrieve(url + white_wine_file, os.path.join(data_dir,white_wine_file))\n",
    "if not os.path.exists(os.path.join(data_dir, wine_names_file)):\n",
    "    urlretrieve(url + wine_names_file, os.path.join(data_dir,wine_names_file))"
   ]
  },
  {
   "cell_type": "code",
   "execution_count": 49,
   "metadata": {
    "ExecuteTime": {
     "end_time": "2018-01-01T00:15:39.343111Z",
     "start_time": "2018-01-01T00:15:39.305370Z"
    }
   },
   "outputs": [
    {
     "name": "stdout",
     "output_type": "stream",
     "text": [
      "white wine columns Index(['fixed acidity', 'volatile acidity', 'citric acid', 'residual sugar',\n",
      "       'chlorides', 'free sulfur dioxide', 'total sulfur dioxide', 'density',\n",
      "       'pH', 'sulphates', 'alcohol', 'quality'],\n",
      "      dtype='object')\n",
      "<class 'pandas.core.frame.DataFrame'>\n",
      "RangeIndex: 1599 entries, 0 to 1598\n",
      "Data columns (total 12 columns):\n",
      "fixed acidity           1599 non-null float64\n",
      "volatile acidity        1599 non-null float64\n",
      "citric acid             1599 non-null float64\n",
      "residual sugar          1599 non-null float64\n",
      "chlorides               1599 non-null float64\n",
      "free sulfur dioxide     1599 non-null float64\n",
      "total sulfur dioxide    1599 non-null float64\n",
      "density                 1599 non-null float64\n",
      "pH                      1599 non-null float64\n",
      "sulphates               1599 non-null float64\n",
      "alcohol                 1599 non-null float64\n",
      "quality                 1599 non-null int64\n",
      "dtypes: float64(11), int64(1)\n",
      "memory usage: 150.0 KB\n",
      "read wine None\n",
      "<class 'pandas.core.frame.DataFrame'>\n",
      "RangeIndex: 4898 entries, 0 to 4897\n",
      "Data columns (total 12 columns):\n",
      "fixed acidity           4898 non-null float64\n",
      "volatile acidity        4898 non-null float64\n",
      "citric acid             4898 non-null float64\n",
      "residual sugar          4898 non-null float64\n",
      "chlorides               4898 non-null float64\n",
      "free sulfur dioxide     4898 non-null float64\n",
      "total sulfur dioxide    4898 non-null float64\n",
      "density                 4898 non-null float64\n",
      "pH                      4898 non-null float64\n",
      "sulphates               4898 non-null float64\n",
      "alcohol                 4898 non-null float64\n",
      "quality                 4898 non-null int64\n",
      "dtypes: float64(11), int64(1)\n",
      "memory usage: 459.3 KB\n",
      "white wine None\n"
     ]
    }
   ],
   "source": [
    "red_wine = pd.read_csv(os.path.join(data_dir,red_wine_file), sep=';')\n",
    "white_wine = pd.read_csv(os.path.join(data_dir,white_wine_file), sep=';')\n",
    "\n",
    "if (np.count_nonzero(red_wine.isnull()) > 0 ):\n",
    "    print(\"red wine missing value\")\n",
    "if (np.count_nonzero(white_wine.isnull()) > 0 ):\n",
    "    print(\"white wine missing value\")\n",
    "\n",
    "print('white wine columns' , white_wine.columns)\n",
    "print('read wine' , red_wine.info())\n",
    "print('white wine' , white_wine.info())\n",
    "    "
   ]
  },
  {
   "cell_type": "code",
   "execution_count": 50,
   "metadata": {
    "ExecuteTime": {
     "end_time": "2018-01-01T23:00:10.911343Z",
     "start_time": "2018-01-01T23:00:10.880411Z"
    },
    "collapsed": true
   },
   "outputs": [],
   "source": [
    "red_wine['wine_type'] = 'red'\n",
    "white_wine['wine_type'] = 'white'\n",
    "red_wine['quality_label'] = red_wine['quality'].apply(lambda value:\n",
    "                                                     'low' if value<=5 else 'medium'\n",
    "                                                      if value <=7 else 'high')\n",
    "red_wine['quality_label'] = pd.Categorical(red_wine['quality_label'],\n",
    "                                          categories=['low', 'medium', 'high'])\n",
    "white_wine['quality_label'] = white_wine['quality'].apply(lambda value:\n",
    "                                                     'low' if value<=5 else 'medium'\n",
    "                                                      if value <=7 else 'high')\n",
    "white_wine['quality_label'] = pd.Categorical(white_wine['quality_label'],\n",
    "                                          categories=['low', 'medium', 'high'])"
   ]
  },
  {
   "cell_type": "code",
   "execution_count": 51,
   "metadata": {
    "ExecuteTime": {
     "end_time": "2018-01-01T23:00:42.641609Z",
     "start_time": "2018-01-01T23:00:42.614607Z"
    }
   },
   "outputs": [
    {
     "name": "stdout",
     "output_type": "stream",
     "text": [
      "(6497, 14) (1599, 14) (4898, 14)\n",
      "<class 'pandas.core.frame.DataFrame'>\n",
      "RangeIndex: 6497 entries, 0 to 6496\n",
      "Data columns (total 14 columns):\n",
      "fixed acidity           6497 non-null float64\n",
      "volatile acidity        6497 non-null float64\n",
      "citric acid             6497 non-null float64\n",
      "residual sugar          6497 non-null float64\n",
      "chlorides               6497 non-null float64\n",
      "free sulfur dioxide     6497 non-null float64\n",
      "total sulfur dioxide    6497 non-null float64\n",
      "density                 6497 non-null float64\n",
      "pH                      6497 non-null float64\n",
      "sulphates               6497 non-null float64\n",
      "alcohol                 6497 non-null float64\n",
      "quality                 6497 non-null int64\n",
      "wine_type               6497 non-null object\n",
      "quality_label           6497 non-null category\n",
      "dtypes: category(1), float64(11), int64(1), object(1)\n",
      "memory usage: 666.4+ KB\n",
      "None\n"
     ]
    }
   ],
   "source": [
    "wines = pd.concat([red_wine, white_wine], axis=0)\n",
    "wines = wines.sample(frac=1, random_state=42).reset_index(drop=True)\n",
    "print(wines.shape, red_wine.shape, white_wine.shape)\n",
    "print(wines.info())"
   ]
  },
  {
   "cell_type": "code",
   "execution_count": null,
   "metadata": {
    "collapsed": true
   },
   "outputs": [],
   "source": []
  }
 ],
 "metadata": {
  "kernelspec": {
   "display_name": "Python [conda env:g]",
   "language": "python",
   "name": "conda-env-g-py"
  },
  "language_info": {
   "codemirror_mode": {
    "name": "ipython",
    "version": 3
   },
   "file_extension": ".py",
   "mimetype": "text/x-python",
   "name": "python",
   "nbconvert_exporter": "python",
   "pygments_lexer": "ipython3",
   "version": "3.6.3"
  }
 },
 "nbformat": 4,
 "nbformat_minor": 2
}
