{
 "cells": [
  {
   "cell_type": "code",
   "execution_count": 1,
   "metadata": {
    "ExecuteTime": {
     "end_time": "2018-01-02T03:04:35.147835Z",
     "start_time": "2018-01-02T03:04:33.743882Z"
    }
   },
   "outputs": [
    {
     "name": "stdout",
     "output_type": "stream",
     "text": [
      "white wine columns Index(['fixed acidity', 'volatile acidity', 'citric acid', 'residual sugar',\n",
      "       'chlorides', 'free sulfur dioxide', 'total sulfur dioxide', 'density',\n",
      "       'pH', 'sulphates', 'alcohol', 'quality'],\n",
      "      dtype='object')\n",
      "<class 'pandas.core.frame.DataFrame'>\n",
      "RangeIndex: 1599 entries, 0 to 1598\n",
      "Data columns (total 12 columns):\n",
      "fixed acidity           1599 non-null float64\n",
      "volatile acidity        1599 non-null float64\n",
      "citric acid             1599 non-null float64\n",
      "residual sugar          1599 non-null float64\n",
      "chlorides               1599 non-null float64\n",
      "free sulfur dioxide     1599 non-null float64\n",
      "total sulfur dioxide    1599 non-null float64\n",
      "density                 1599 non-null float64\n",
      "pH                      1599 non-null float64\n",
      "sulphates               1599 non-null float64\n",
      "alcohol                 1599 non-null float64\n",
      "quality                 1599 non-null int64\n",
      "dtypes: float64(11), int64(1)\n",
      "memory usage: 150.0 KB\n",
      "read wine None\n",
      "<class 'pandas.core.frame.DataFrame'>\n",
      "RangeIndex: 4898 entries, 0 to 4897\n",
      "Data columns (total 12 columns):\n",
      "fixed acidity           4898 non-null float64\n",
      "volatile acidity        4898 non-null float64\n",
      "citric acid             4898 non-null float64\n",
      "residual sugar          4898 non-null float64\n",
      "chlorides               4898 non-null float64\n",
      "free sulfur dioxide     4898 non-null float64\n",
      "total sulfur dioxide    4898 non-null float64\n",
      "density                 4898 non-null float64\n",
      "pH                      4898 non-null float64\n",
      "sulphates               4898 non-null float64\n",
      "alcohol                 4898 non-null float64\n",
      "quality                 4898 non-null int64\n",
      "dtypes: float64(11), int64(1)\n",
      "memory usage: 459.3 KB\n",
      "white wine None\n",
      "(6497, 14) (1599, 14) (4898, 14)\n",
      "<class 'pandas.core.frame.DataFrame'>\n",
      "RangeIndex: 6497 entries, 0 to 6496\n",
      "Data columns (total 14 columns):\n",
      "fixed acidity           6497 non-null float64\n",
      "volatile acidity        6497 non-null float64\n",
      "citric acid             6497 non-null float64\n",
      "residual sugar          6497 non-null float64\n",
      "chlorides               6497 non-null float64\n",
      "free sulfur dioxide     6497 non-null float64\n",
      "total sulfur dioxide    6497 non-null float64\n",
      "density                 6497 non-null float64\n",
      "pH                      6497 non-null float64\n",
      "sulphates               6497 non-null float64\n",
      "alcohol                 6497 non-null float64\n",
      "quality                 6497 non-null int64\n",
      "wine_type               6497 non-null object\n",
      "quality_label           6497 non-null category\n",
      "dtypes: category(1), float64(11), int64(1), object(1)\n",
      "memory usage: 666.4+ KB\n",
      "None\n"
     ]
    }
   ],
   "source": [
    "%run data_loader.ipynb\n",
    "%run evaluation.ipynb\n",
    "import xgboost as xgb"
   ]
  },
  {
   "cell_type": "code",
   "execution_count": 6,
   "metadata": {
    "ExecuteTime": {
     "end_time": "2018-01-02T03:09:03.605774Z",
     "start_time": "2018-01-02T03:09:03.597138Z"
    }
   },
   "outputs": [],
   "source": [
    "from sklearn.model_selection import train_test_split\n",
    "features = wines.iloc[:,:-3]\n",
    "class_labels = np.array(wines['quality_label'])\n",
    "label_names = ['low', 'medium', 'high']\n",
    "feature_names = list(features.columns)\n",
    "X_train, X_test, y_train, y_test = train_test_split(features, class_labels, test_size=0.3, \n",
    "                                                    random_state=42)"
   ]
  },
  {
   "cell_type": "code",
   "execution_count": 10,
   "metadata": {
    "ExecuteTime": {
     "end_time": "2018-01-02T03:09:57.624636Z",
     "start_time": "2018-01-02T03:09:57.618520Z"
    }
   },
   "outputs": [],
   "source": [
    "from sklearn.preprocessing import StandardScaler\n",
    "ss = StandardScaler().fit(X_train)\n",
    "SX_train = ss.transform(X_train)\n",
    "SX_test = ss.transform(X_test)"
   ]
  },
  {
   "cell_type": "code",
   "execution_count": 12,
   "metadata": {
    "ExecuteTime": {
     "end_time": "2018-01-02T03:10:13.029862Z",
     "start_time": "2018-01-02T03:10:11.362550Z"
    }
   },
   "outputs": [
    {
     "data": {
      "text/plain": [
       "XGBClassifier(base_score=0.5, booster='gbtree', colsample_bylevel=1,\n",
       "       colsample_bytree=1, gamma=0, learning_rate=0.3, max_delta_step=0,\n",
       "       max_depth=10, min_child_weight=1, missing=None, n_estimaters=100,\n",
       "       n_estimators=100, n_jobs=1, nthread=None,\n",
       "       objective='multi:softprob', random_state=0, reg_alpha=0,\n",
       "       reg_lambda=1, scale_pos_weight=1, seed=42, silent=True, subsample=1)"
      ]
     },
     "execution_count": 12,
     "metadata": {},
     "output_type": "execute_result"
    }
   ],
   "source": [
    "xgb_model = xgb.XGBClassifier(seed=42, max_depth=10, learning_rate=0.3, n_estimaters=100)\n",
    "xgb_model.fit(SX_train, y_train)"
   ]
  },
  {
   "cell_type": "code",
   "execution_count": 13,
   "metadata": {
    "ExecuteTime": {
     "end_time": "2018-01-02T03:10:59.541291Z",
     "start_time": "2018-01-02T03:10:59.432111Z"
    }
   },
   "outputs": [
    {
     "name": "stdout",
     "output_type": "stream",
     "text": [
      "Model Performance metrics:\n",
      "------------------------------\n",
      "Accuracy: 0.7887\n",
      "Precision: 0.7891\n",
      "Recall: 0.7887\n",
      "F1 Score: 0.7841\n",
      "\n",
      "Model Classification report:\n",
      "------------------------------\n",
      "labels ['low', 'medium', 'high']\n",
      "             precision    recall  f1-score   support\n",
      "\n",
      "        low       0.75      0.71      0.73       718\n",
      "     medium       0.81      0.86      0.83      1178\n",
      "       high       0.89      0.30      0.44        54\n",
      "\n",
      "avg / total       0.79      0.79      0.78      1950\n",
      "\n",
      "\n",
      "Prediction Confusion Matrix:\n",
      "------------------------------\n",
      "               Predicted:            \n",
      "                      low medium high\n",
      "Actual: low           511    207    0\n",
      "        medium        165   1011    2\n",
      "        high            3     35   16\n"
     ]
    }
   ],
   "source": [
    "xgb_predictions = xgb_model.predict(SX_test)\n",
    "display_model_performance_metrics(true_labels=y_test, predicted_labels=xgb_predictions, \n",
    "                                  classes=label_names)"
   ]
  },
  {
   "cell_type": "code",
   "execution_count": null,
   "metadata": {
    "collapsed": true
   },
   "outputs": [],
   "source": [
    "## Hyper parameters tuning"
   ]
  },
  {
   "cell_type": "code",
   "execution_count": 15,
   "metadata": {
    "ExecuteTime": {
     "end_time": "2018-01-02T03:16:58.102277Z",
     "start_time": "2018-01-02T03:13:40.690992Z"
    }
   },
   "outputs": [
    {
     "name": "stdout",
     "output_type": "stream",
     "text": [
      "{'learning_rate': 0.3, 'max_depth': 10, 'n_estimators': 100}\n"
     ]
    }
   ],
   "source": [
    "from sklearn.model_selection import GridSearchCV\n",
    "\n",
    "param_grid = {\n",
    "                'n_estimators': [100, 200, 300], \n",
    "                'max_depth': [5, 10, 15],\n",
    "                'learning_rate': [0.3, 0.5]\n",
    "              }\n",
    "\n",
    "clf = GridSearchCV(xgb.XGBClassifier(tree_method='exact', seed=42), param_grid, \n",
    "                       cv=5, scoring='accuracy')\n",
    "clf.fit(SX_train, y_train)\n",
    "print(clf.best_params_)"
   ]
  },
  {
   "cell_type": "code",
   "execution_count": 16,
   "metadata": {
    "ExecuteTime": {
     "end_time": "2018-01-02T03:16:58.126247Z",
     "start_time": "2018-01-02T03:16:58.104236Z"
    }
   },
   "outputs": [
    {
     "name": "stdout",
     "output_type": "stream",
     "text": [
      "{'learning_rate': 0.3, 'max_depth': 5, 'n_estimators': 100} 0.7779 0.0118\n",
      "{'learning_rate': 0.3, 'max_depth': 5, 'n_estimators': 200} 0.7799 0.0066\n",
      "{'learning_rate': 0.3, 'max_depth': 5, 'n_estimators': 300} 0.7788 0.0091\n",
      "{'learning_rate': 0.3, 'max_depth': 10, 'n_estimators': 100} 0.7871 0.0048\n",
      "{'learning_rate': 0.3, 'max_depth': 10, 'n_estimators': 200} 0.7845 0.0051\n",
      "{'learning_rate': 0.3, 'max_depth': 10, 'n_estimators': 300} 0.7799 0.0026\n",
      "{'learning_rate': 0.3, 'max_depth': 15, 'n_estimators': 100} 0.7823 0.0107\n",
      "{'learning_rate': 0.3, 'max_depth': 15, 'n_estimators': 200} 0.7818 0.0105\n",
      "{'learning_rate': 0.3, 'max_depth': 15, 'n_estimators': 300} 0.7805 0.0112\n",
      "{'learning_rate': 0.5, 'max_depth': 5, 'n_estimators': 100} 0.7781 0.0123\n",
      "{'learning_rate': 0.5, 'max_depth': 5, 'n_estimators': 200} 0.7735 0.0091\n",
      "{'learning_rate': 0.5, 'max_depth': 5, 'n_estimators': 300} 0.7748 0.0078\n",
      "{'learning_rate': 0.5, 'max_depth': 10, 'n_estimators': 100} 0.7768 0.0088\n",
      "{'learning_rate': 0.5, 'max_depth': 10, 'n_estimators': 200} 0.7735 0.0104\n",
      "{'learning_rate': 0.5, 'max_depth': 10, 'n_estimators': 300} 0.7726 0.008\n",
      "{'learning_rate': 0.5, 'max_depth': 15, 'n_estimators': 100} 0.7781 0.011\n",
      "{'learning_rate': 0.5, 'max_depth': 15, 'n_estimators': 200} 0.779 0.0094\n",
      "{'learning_rate': 0.5, 'max_depth': 15, 'n_estimators': 300} 0.7759 0.0088\n"
     ]
    }
   ],
   "source": [
    "results = clf.cv_results_\n",
    "for param, score_mean, score_sd in zip(results['params'], results['mean_test_score'], results['std_test_score']):\n",
    "    print(param, round(score_mean, 4), round(score_sd, 4))"
   ]
  },
  {
   "cell_type": "code",
   "execution_count": 18,
   "metadata": {
    "ExecuteTime": {
     "end_time": "2018-01-02T06:23:23.606352Z",
     "start_time": "2018-01-02T06:23:21.911289Z"
    }
   },
   "outputs": [
    {
     "name": "stdout",
     "output_type": "stream",
     "text": [
      "Model Performance metrics:\n",
      "------------------------------\n",
      "Accuracy: 0.7887\n",
      "Precision: 0.7891\n",
      "Recall: 0.7887\n",
      "F1 Score: 0.7841\n",
      "\n",
      "Model Classification report:\n",
      "------------------------------\n",
      "labels ['low', 'medium', 'high']\n",
      "             precision    recall  f1-score   support\n",
      "\n",
      "        low       0.75      0.71      0.73       718\n",
      "     medium       0.81      0.86      0.83      1178\n",
      "       high       0.89      0.30      0.44        54\n",
      "\n",
      "avg / total       0.79      0.79      0.78      1950\n",
      "\n",
      "\n",
      "Prediction Confusion Matrix:\n",
      "------------------------------\n",
      "               Predicted:            \n",
      "                      low medium high\n",
      "Actual: low           511    207    0\n",
      "        medium        165   1011    2\n",
      "        high            3     35   16\n"
     ]
    }
   ],
   "source": [
    "xgb_model = xgb.XGBClassifier(seed=42, max_depth=10, learning_rate=0.3, n_estimators=100)\n",
    "xgb_model.fit(SX_train, y_train)\n",
    "\n",
    "xgb_predictions = xgb_model.predict(SX_test)\n",
    "display_model_performance_metrics(true_labels=y_test, predicted_labels=xgb_predictions, \n",
    "                                      classes=label_names)"
   ]
  },
  {
   "cell_type": "code",
   "execution_count": null,
   "metadata": {
    "collapsed": true
   },
   "outputs": [],
   "source": []
  }
 ],
 "metadata": {
  "kernelspec": {
   "display_name": "Python [conda env:g]",
   "language": "python",
   "name": "conda-env-g-py"
  },
  "language_info": {
   "codemirror_mode": {
    "name": "ipython",
    "version": 3
   },
   "file_extension": ".py",
   "mimetype": "text/x-python",
   "name": "python",
   "nbconvert_exporter": "python",
   "pygments_lexer": "ipython3",
   "version": "3.6.3"
  }
 },
 "nbformat": 4,
 "nbformat_minor": 2
}
